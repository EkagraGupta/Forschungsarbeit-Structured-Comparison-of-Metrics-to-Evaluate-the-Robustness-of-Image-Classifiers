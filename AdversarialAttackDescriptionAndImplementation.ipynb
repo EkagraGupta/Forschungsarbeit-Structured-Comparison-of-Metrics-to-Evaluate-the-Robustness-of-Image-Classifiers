{
  "nbformat": 4,
  "nbformat_minor": 0,
  "metadata": {
    "colab": {
      "provenance": []
    },
    "kernelspec": {
      "name": "python3",
      "display_name": "Python 3"
    },
    "language_info": {
      "name": "python"
    },
    "accelerator": "GPU",
    "gpuClass": "standard"
  },
  "cells": [
    {
      "cell_type": "code",
      "execution_count": 146,
      "metadata": {
        "colab": {
          "base_uri": "https://localhost:8080/"
        },
        "id": "CpQUHXIX5kBN",
        "outputId": "c1834e08-5ba0-4bf1-d452-1ac7aec16d2a"
      },
      "outputs": [
        {
          "output_type": "stream",
          "name": "stdout",
          "text": [
            "Looking in indexes: https://pypi.org/simple, https://us-python.pkg.dev/colab-wheels/public/simple/\n",
            "Requirement already satisfied: cleverhans in /usr/local/lib/python3.9/dist-packages (4.0.0)\n",
            "Requirement already satisfied: joblib in /usr/local/lib/python3.9/dist-packages (from cleverhans) (1.2.0)\n",
            "Requirement already satisfied: matplotlib in /usr/local/lib/python3.9/dist-packages (from cleverhans) (3.7.1)\n",
            "Requirement already satisfied: mnist in /usr/local/lib/python3.9/dist-packages (from cleverhans) (0.2.2)\n",
            "Requirement already satisfied: scipy in /usr/local/lib/python3.9/dist-packages (from cleverhans) (1.10.1)\n",
            "Requirement already satisfied: nose in /usr/local/lib/python3.9/dist-packages (from cleverhans) (1.3.7)\n",
            "Requirement already satisfied: tensorflow-probability in /usr/local/lib/python3.9/dist-packages (from cleverhans) (0.19.0)\n",
            "Requirement already satisfied: numpy in /usr/local/lib/python3.9/dist-packages (from cleverhans) (1.22.4)\n",
            "Requirement already satisfied: six in /usr/local/lib/python3.9/dist-packages (from cleverhans) (1.16.0)\n",
            "Requirement already satisfied: easydict in /usr/local/lib/python3.9/dist-packages (from cleverhans) (1.10)\n",
            "Requirement already satisfied: pycodestyle in /usr/local/lib/python3.9/dist-packages (from cleverhans) (2.10.0)\n",
            "Requirement already satisfied: absl-py in /usr/local/lib/python3.9/dist-packages (from cleverhans) (1.4.0)\n",
            "Requirement already satisfied: cycler>=0.10 in /usr/local/lib/python3.9/dist-packages (from matplotlib->cleverhans) (0.11.0)\n",
            "Requirement already satisfied: fonttools>=4.22.0 in /usr/local/lib/python3.9/dist-packages (from matplotlib->cleverhans) (4.39.3)\n",
            "Requirement already satisfied: contourpy>=1.0.1 in /usr/local/lib/python3.9/dist-packages (from matplotlib->cleverhans) (1.0.7)\n",
            "Requirement already satisfied: packaging>=20.0 in /usr/local/lib/python3.9/dist-packages (from matplotlib->cleverhans) (23.1)\n",
            "Requirement already satisfied: pillow>=6.2.0 in /usr/local/lib/python3.9/dist-packages (from matplotlib->cleverhans) (8.4.0)\n",
            "Requirement already satisfied: kiwisolver>=1.0.1 in /usr/local/lib/python3.9/dist-packages (from matplotlib->cleverhans) (1.4.4)\n",
            "Requirement already satisfied: python-dateutil>=2.7 in /usr/local/lib/python3.9/dist-packages (from matplotlib->cleverhans) (2.8.2)\n",
            "Requirement already satisfied: pyparsing>=2.3.1 in /usr/local/lib/python3.9/dist-packages (from matplotlib->cleverhans) (3.0.9)\n",
            "Requirement already satisfied: importlib-resources>=3.2.0 in /usr/local/lib/python3.9/dist-packages (from matplotlib->cleverhans) (5.12.0)\n",
            "Requirement already satisfied: cloudpickle>=1.3 in /usr/local/lib/python3.9/dist-packages (from tensorflow-probability->cleverhans) (2.2.1)\n",
            "Requirement already satisfied: decorator in /usr/local/lib/python3.9/dist-packages (from tensorflow-probability->cleverhans) (4.4.2)\n",
            "Requirement already satisfied: gast>=0.3.2 in /usr/local/lib/python3.9/dist-packages (from tensorflow-probability->cleverhans) (0.4.0)\n",
            "Requirement already satisfied: dm-tree in /usr/local/lib/python3.9/dist-packages (from tensorflow-probability->cleverhans) (0.1.8)\n",
            "Requirement already satisfied: zipp>=3.1.0 in /usr/local/lib/python3.9/dist-packages (from importlib-resources>=3.2.0->matplotlib->cleverhans) (3.15.0)\n"
          ]
        }
      ],
      "source": [
        "!pip install cleverhans"
      ]
    },
    {
      "cell_type": "code",
      "source": [
        "import torch\n",
        "import torchvision\n",
        "from torchvision import datasets, transforms, models\n",
        "import numpy as np\n",
        "import matplotlib.pyplot as plt"
      ],
      "metadata": {
        "id": "Ew5530Kc5uTa"
      },
      "execution_count": 147,
      "outputs": []
    },
    {
      "cell_type": "code",
      "source": [
        "# Load dataset and initialize dataloader\n",
        "BATCH_SIZE = 16\n",
        "\n",
        "transform = transforms.Compose([transforms.Resize((224, 224)),\n",
        "                                transforms.ToTensor(),\n",
        "                                transforms.Normalize((0.5, 0.5, 0.5), (0.5, 0.5, 0.5))])\n",
        "\n",
        "testset = datasets.CIFAR10(root=\"~/data\",\n",
        "                           download=True,\n",
        "                           train=False,\n",
        "                           transform=transform)\n",
        "\n",
        "testloader = torch.utils.data.DataLoader(testset,\n",
        "                                         batch_size=BATCH_SIZE,\n",
        "                                         shuffle=True,\n",
        "                                         num_workers=2)\n",
        "\n",
        "truncated_testset, _ = torch.utils.data.random_split(testset, [1000, 9000])\n",
        "\n",
        "truncated_testloader = torch.utils.data.DataLoader(truncated_testset,\n",
        "                                                   batch_size=BATCH_SIZE,\n",
        "                                                   shuffle=True,\n",
        "                                                   num_workers=2)"
      ],
      "metadata": {
        "colab": {
          "base_uri": "https://localhost:8080/"
        },
        "id": "pB4cP8Xu6Kus",
        "outputId": "77aeec47-7eca-4127-96bb-8718c7252e1e"
      },
      "execution_count": 148,
      "outputs": [
        {
          "output_type": "stream",
          "name": "stdout",
          "text": [
            "Files already downloaded and verified\n"
          ]
        }
      ]
    },
    {
      "cell_type": "code",
      "source": [
        "# Load the trained resnet model\n",
        "PATH = \"/content/RESNET_CLASSIFIER_L.pth\"\n",
        "resnet = torch.load(PATH)"
      ],
      "metadata": {
        "id": "a-cY3-Wu8M-z"
      },
      "execution_count": 149,
      "outputs": []
    },
    {
      "cell_type": "code",
      "source": [
        "resnet.eval()"
      ],
      "metadata": {
        "colab": {
          "base_uri": "https://localhost:8080/"
        },
        "id": "xzMmzTnI92QJ",
        "outputId": "3712a909-0b44-40dd-a208-32449f9c5c56"
      },
      "execution_count": 150,
      "outputs": [
        {
          "output_type": "execute_result",
          "data": {
            "text/plain": [
              "ResNet(\n",
              "  (conv1): Conv2d(3, 64, kernel_size=(7, 7), stride=(2, 2), padding=(3, 3), bias=False)\n",
              "  (bn1): BatchNorm2d(64, eps=1e-05, momentum=0.1, affine=True, track_running_stats=True)\n",
              "  (relu): ReLU(inplace=True)\n",
              "  (maxpool): MaxPool2d(kernel_size=3, stride=2, padding=1, dilation=1, ceil_mode=False)\n",
              "  (layer1): Sequential(\n",
              "    (0): Bottleneck(\n",
              "      (conv1): Conv2d(64, 64, kernel_size=(1, 1), stride=(1, 1), bias=False)\n",
              "      (bn1): BatchNorm2d(64, eps=1e-05, momentum=0.1, affine=True, track_running_stats=True)\n",
              "      (conv2): Conv2d(64, 64, kernel_size=(3, 3), stride=(1, 1), padding=(1, 1), bias=False)\n",
              "      (bn2): BatchNorm2d(64, eps=1e-05, momentum=0.1, affine=True, track_running_stats=True)\n",
              "      (conv3): Conv2d(64, 256, kernel_size=(1, 1), stride=(1, 1), bias=False)\n",
              "      (bn3): BatchNorm2d(256, eps=1e-05, momentum=0.1, affine=True, track_running_stats=True)\n",
              "      (relu): ReLU(inplace=True)\n",
              "      (downsample): Sequential(\n",
              "        (0): Conv2d(64, 256, kernel_size=(1, 1), stride=(1, 1), bias=False)\n",
              "        (1): BatchNorm2d(256, eps=1e-05, momentum=0.1, affine=True, track_running_stats=True)\n",
              "      )\n",
              "    )\n",
              "    (1): Bottleneck(\n",
              "      (conv1): Conv2d(256, 64, kernel_size=(1, 1), stride=(1, 1), bias=False)\n",
              "      (bn1): BatchNorm2d(64, eps=1e-05, momentum=0.1, affine=True, track_running_stats=True)\n",
              "      (conv2): Conv2d(64, 64, kernel_size=(3, 3), stride=(1, 1), padding=(1, 1), bias=False)\n",
              "      (bn2): BatchNorm2d(64, eps=1e-05, momentum=0.1, affine=True, track_running_stats=True)\n",
              "      (conv3): Conv2d(64, 256, kernel_size=(1, 1), stride=(1, 1), bias=False)\n",
              "      (bn3): BatchNorm2d(256, eps=1e-05, momentum=0.1, affine=True, track_running_stats=True)\n",
              "      (relu): ReLU(inplace=True)\n",
              "    )\n",
              "    (2): Bottleneck(\n",
              "      (conv1): Conv2d(256, 64, kernel_size=(1, 1), stride=(1, 1), bias=False)\n",
              "      (bn1): BatchNorm2d(64, eps=1e-05, momentum=0.1, affine=True, track_running_stats=True)\n",
              "      (conv2): Conv2d(64, 64, kernel_size=(3, 3), stride=(1, 1), padding=(1, 1), bias=False)\n",
              "      (bn2): BatchNorm2d(64, eps=1e-05, momentum=0.1, affine=True, track_running_stats=True)\n",
              "      (conv3): Conv2d(64, 256, kernel_size=(1, 1), stride=(1, 1), bias=False)\n",
              "      (bn3): BatchNorm2d(256, eps=1e-05, momentum=0.1, affine=True, track_running_stats=True)\n",
              "      (relu): ReLU(inplace=True)\n",
              "    )\n",
              "  )\n",
              "  (layer2): Sequential(\n",
              "    (0): Bottleneck(\n",
              "      (conv1): Conv2d(256, 128, kernel_size=(1, 1), stride=(1, 1), bias=False)\n",
              "      (bn1): BatchNorm2d(128, eps=1e-05, momentum=0.1, affine=True, track_running_stats=True)\n",
              "      (conv2): Conv2d(128, 128, kernel_size=(3, 3), stride=(2, 2), padding=(1, 1), bias=False)\n",
              "      (bn2): BatchNorm2d(128, eps=1e-05, momentum=0.1, affine=True, track_running_stats=True)\n",
              "      (conv3): Conv2d(128, 512, kernel_size=(1, 1), stride=(1, 1), bias=False)\n",
              "      (bn3): BatchNorm2d(512, eps=1e-05, momentum=0.1, affine=True, track_running_stats=True)\n",
              "      (relu): ReLU(inplace=True)\n",
              "      (downsample): Sequential(\n",
              "        (0): Conv2d(256, 512, kernel_size=(1, 1), stride=(2, 2), bias=False)\n",
              "        (1): BatchNorm2d(512, eps=1e-05, momentum=0.1, affine=True, track_running_stats=True)\n",
              "      )\n",
              "    )\n",
              "    (1): Bottleneck(\n",
              "      (conv1): Conv2d(512, 128, kernel_size=(1, 1), stride=(1, 1), bias=False)\n",
              "      (bn1): BatchNorm2d(128, eps=1e-05, momentum=0.1, affine=True, track_running_stats=True)\n",
              "      (conv2): Conv2d(128, 128, kernel_size=(3, 3), stride=(1, 1), padding=(1, 1), bias=False)\n",
              "      (bn2): BatchNorm2d(128, eps=1e-05, momentum=0.1, affine=True, track_running_stats=True)\n",
              "      (conv3): Conv2d(128, 512, kernel_size=(1, 1), stride=(1, 1), bias=False)\n",
              "      (bn3): BatchNorm2d(512, eps=1e-05, momentum=0.1, affine=True, track_running_stats=True)\n",
              "      (relu): ReLU(inplace=True)\n",
              "    )\n",
              "    (2): Bottleneck(\n",
              "      (conv1): Conv2d(512, 128, kernel_size=(1, 1), stride=(1, 1), bias=False)\n",
              "      (bn1): BatchNorm2d(128, eps=1e-05, momentum=0.1, affine=True, track_running_stats=True)\n",
              "      (conv2): Conv2d(128, 128, kernel_size=(3, 3), stride=(1, 1), padding=(1, 1), bias=False)\n",
              "      (bn2): BatchNorm2d(128, eps=1e-05, momentum=0.1, affine=True, track_running_stats=True)\n",
              "      (conv3): Conv2d(128, 512, kernel_size=(1, 1), stride=(1, 1), bias=False)\n",
              "      (bn3): BatchNorm2d(512, eps=1e-05, momentum=0.1, affine=True, track_running_stats=True)\n",
              "      (relu): ReLU(inplace=True)\n",
              "    )\n",
              "    (3): Bottleneck(\n",
              "      (conv1): Conv2d(512, 128, kernel_size=(1, 1), stride=(1, 1), bias=False)\n",
              "      (bn1): BatchNorm2d(128, eps=1e-05, momentum=0.1, affine=True, track_running_stats=True)\n",
              "      (conv2): Conv2d(128, 128, kernel_size=(3, 3), stride=(1, 1), padding=(1, 1), bias=False)\n",
              "      (bn2): BatchNorm2d(128, eps=1e-05, momentum=0.1, affine=True, track_running_stats=True)\n",
              "      (conv3): Conv2d(128, 512, kernel_size=(1, 1), stride=(1, 1), bias=False)\n",
              "      (bn3): BatchNorm2d(512, eps=1e-05, momentum=0.1, affine=True, track_running_stats=True)\n",
              "      (relu): ReLU(inplace=True)\n",
              "    )\n",
              "  )\n",
              "  (layer3): Sequential(\n",
              "    (0): Bottleneck(\n",
              "      (conv1): Conv2d(512, 256, kernel_size=(1, 1), stride=(1, 1), bias=False)\n",
              "      (bn1): BatchNorm2d(256, eps=1e-05, momentum=0.1, affine=True, track_running_stats=True)\n",
              "      (conv2): Conv2d(256, 256, kernel_size=(3, 3), stride=(2, 2), padding=(1, 1), bias=False)\n",
              "      (bn2): BatchNorm2d(256, eps=1e-05, momentum=0.1, affine=True, track_running_stats=True)\n",
              "      (conv3): Conv2d(256, 1024, kernel_size=(1, 1), stride=(1, 1), bias=False)\n",
              "      (bn3): BatchNorm2d(1024, eps=1e-05, momentum=0.1, affine=True, track_running_stats=True)\n",
              "      (relu): ReLU(inplace=True)\n",
              "      (downsample): Sequential(\n",
              "        (0): Conv2d(512, 1024, kernel_size=(1, 1), stride=(2, 2), bias=False)\n",
              "        (1): BatchNorm2d(1024, eps=1e-05, momentum=0.1, affine=True, track_running_stats=True)\n",
              "      )\n",
              "    )\n",
              "    (1): Bottleneck(\n",
              "      (conv1): Conv2d(1024, 256, kernel_size=(1, 1), stride=(1, 1), bias=False)\n",
              "      (bn1): BatchNorm2d(256, eps=1e-05, momentum=0.1, affine=True, track_running_stats=True)\n",
              "      (conv2): Conv2d(256, 256, kernel_size=(3, 3), stride=(1, 1), padding=(1, 1), bias=False)\n",
              "      (bn2): BatchNorm2d(256, eps=1e-05, momentum=0.1, affine=True, track_running_stats=True)\n",
              "      (conv3): Conv2d(256, 1024, kernel_size=(1, 1), stride=(1, 1), bias=False)\n",
              "      (bn3): BatchNorm2d(1024, eps=1e-05, momentum=0.1, affine=True, track_running_stats=True)\n",
              "      (relu): ReLU(inplace=True)\n",
              "    )\n",
              "    (2): Bottleneck(\n",
              "      (conv1): Conv2d(1024, 256, kernel_size=(1, 1), stride=(1, 1), bias=False)\n",
              "      (bn1): BatchNorm2d(256, eps=1e-05, momentum=0.1, affine=True, track_running_stats=True)\n",
              "      (conv2): Conv2d(256, 256, kernel_size=(3, 3), stride=(1, 1), padding=(1, 1), bias=False)\n",
              "      (bn2): BatchNorm2d(256, eps=1e-05, momentum=0.1, affine=True, track_running_stats=True)\n",
              "      (conv3): Conv2d(256, 1024, kernel_size=(1, 1), stride=(1, 1), bias=False)\n",
              "      (bn3): BatchNorm2d(1024, eps=1e-05, momentum=0.1, affine=True, track_running_stats=True)\n",
              "      (relu): ReLU(inplace=True)\n",
              "    )\n",
              "    (3): Bottleneck(\n",
              "      (conv1): Conv2d(1024, 256, kernel_size=(1, 1), stride=(1, 1), bias=False)\n",
              "      (bn1): BatchNorm2d(256, eps=1e-05, momentum=0.1, affine=True, track_running_stats=True)\n",
              "      (conv2): Conv2d(256, 256, kernel_size=(3, 3), stride=(1, 1), padding=(1, 1), bias=False)\n",
              "      (bn2): BatchNorm2d(256, eps=1e-05, momentum=0.1, affine=True, track_running_stats=True)\n",
              "      (conv3): Conv2d(256, 1024, kernel_size=(1, 1), stride=(1, 1), bias=False)\n",
              "      (bn3): BatchNorm2d(1024, eps=1e-05, momentum=0.1, affine=True, track_running_stats=True)\n",
              "      (relu): ReLU(inplace=True)\n",
              "    )\n",
              "    (4): Bottleneck(\n",
              "      (conv1): Conv2d(1024, 256, kernel_size=(1, 1), stride=(1, 1), bias=False)\n",
              "      (bn1): BatchNorm2d(256, eps=1e-05, momentum=0.1, affine=True, track_running_stats=True)\n",
              "      (conv2): Conv2d(256, 256, kernel_size=(3, 3), stride=(1, 1), padding=(1, 1), bias=False)\n",
              "      (bn2): BatchNorm2d(256, eps=1e-05, momentum=0.1, affine=True, track_running_stats=True)\n",
              "      (conv3): Conv2d(256, 1024, kernel_size=(1, 1), stride=(1, 1), bias=False)\n",
              "      (bn3): BatchNorm2d(1024, eps=1e-05, momentum=0.1, affine=True, track_running_stats=True)\n",
              "      (relu): ReLU(inplace=True)\n",
              "    )\n",
              "    (5): Bottleneck(\n",
              "      (conv1): Conv2d(1024, 256, kernel_size=(1, 1), stride=(1, 1), bias=False)\n",
              "      (bn1): BatchNorm2d(256, eps=1e-05, momentum=0.1, affine=True, track_running_stats=True)\n",
              "      (conv2): Conv2d(256, 256, kernel_size=(3, 3), stride=(1, 1), padding=(1, 1), bias=False)\n",
              "      (bn2): BatchNorm2d(256, eps=1e-05, momentum=0.1, affine=True, track_running_stats=True)\n",
              "      (conv3): Conv2d(256, 1024, kernel_size=(1, 1), stride=(1, 1), bias=False)\n",
              "      (bn3): BatchNorm2d(1024, eps=1e-05, momentum=0.1, affine=True, track_running_stats=True)\n",
              "      (relu): ReLU(inplace=True)\n",
              "    )\n",
              "  )\n",
              "  (layer4): Sequential(\n",
              "    (0): Bottleneck(\n",
              "      (conv1): Conv2d(1024, 512, kernel_size=(1, 1), stride=(1, 1), bias=False)\n",
              "      (bn1): BatchNorm2d(512, eps=1e-05, momentum=0.1, affine=True, track_running_stats=True)\n",
              "      (conv2): Conv2d(512, 512, kernel_size=(3, 3), stride=(2, 2), padding=(1, 1), bias=False)\n",
              "      (bn2): BatchNorm2d(512, eps=1e-05, momentum=0.1, affine=True, track_running_stats=True)\n",
              "      (conv3): Conv2d(512, 2048, kernel_size=(1, 1), stride=(1, 1), bias=False)\n",
              "      (bn3): BatchNorm2d(2048, eps=1e-05, momentum=0.1, affine=True, track_running_stats=True)\n",
              "      (relu): ReLU(inplace=True)\n",
              "      (downsample): Sequential(\n",
              "        (0): Conv2d(1024, 2048, kernel_size=(1, 1), stride=(2, 2), bias=False)\n",
              "        (1): BatchNorm2d(2048, eps=1e-05, momentum=0.1, affine=True, track_running_stats=True)\n",
              "      )\n",
              "    )\n",
              "    (1): Bottleneck(\n",
              "      (conv1): Conv2d(2048, 512, kernel_size=(1, 1), stride=(1, 1), bias=False)\n",
              "      (bn1): BatchNorm2d(512, eps=1e-05, momentum=0.1, affine=True, track_running_stats=True)\n",
              "      (conv2): Conv2d(512, 512, kernel_size=(3, 3), stride=(1, 1), padding=(1, 1), bias=False)\n",
              "      (bn2): BatchNorm2d(512, eps=1e-05, momentum=0.1, affine=True, track_running_stats=True)\n",
              "      (conv3): Conv2d(512, 2048, kernel_size=(1, 1), stride=(1, 1), bias=False)\n",
              "      (bn3): BatchNorm2d(2048, eps=1e-05, momentum=0.1, affine=True, track_running_stats=True)\n",
              "      (relu): ReLU(inplace=True)\n",
              "    )\n",
              "    (2): Bottleneck(\n",
              "      (conv1): Conv2d(2048, 512, kernel_size=(1, 1), stride=(1, 1), bias=False)\n",
              "      (bn1): BatchNorm2d(512, eps=1e-05, momentum=0.1, affine=True, track_running_stats=True)\n",
              "      (conv2): Conv2d(512, 512, kernel_size=(3, 3), stride=(1, 1), padding=(1, 1), bias=False)\n",
              "      (bn2): BatchNorm2d(512, eps=1e-05, momentum=0.1, affine=True, track_running_stats=True)\n",
              "      (conv3): Conv2d(512, 2048, kernel_size=(1, 1), stride=(1, 1), bias=False)\n",
              "      (bn3): BatchNorm2d(2048, eps=1e-05, momentum=0.1, affine=True, track_running_stats=True)\n",
              "      (relu): ReLU(inplace=True)\n",
              "    )\n",
              "  )\n",
              "  (avgpool): AdaptiveAvgPool2d(output_size=(1, 1))\n",
              "  (fc): Linear(in_features=2048, out_features=10, bias=True)\n",
              ")"
            ]
          },
          "metadata": {},
          "execution_count": 150
        }
      ]
    },
    {
      "cell_type": "code",
      "source": [
        "device = torch.device(\"cuda\")"
      ],
      "metadata": {
        "id": "TR92ZXsj-OgQ"
      },
      "execution_count": 151,
      "outputs": []
    },
    {
      "cell_type": "code",
      "source": [
        "# Checking accuracy on clean images\n",
        "correct, total = 0, 0\n",
        "with torch.no_grad():\n",
        "  for i, data in enumerate(truncated_testloader):\n",
        "    inputs, labels = data\n",
        "    inputs, labels = inputs.to(device), labels.to(device)\n",
        "\n",
        "    outputs = resnet(inputs)\n",
        "\n",
        "    _, predicted = torch.max(outputs.data, 1)\n",
        "\n",
        "    total += labels.size(0)\n",
        "    correct += (predicted==labels).sum().item()\n",
        "\n",
        "  print(f\"Accuracy on 1000 clean images: {correct/total*100}\")"
      ],
      "metadata": {
        "colab": {
          "base_uri": "https://localhost:8080/"
        },
        "id": "2IShuoAY94RX",
        "outputId": "c024e052-de77-488e-a103-52ef18fe00bc"
      },
      "execution_count": 152,
      "outputs": [
        {
          "output_type": "stream",
          "name": "stdout",
          "text": [
            "Accuracy on 1000 clean images: 85.5\n"
          ]
        }
      ]
    },
    {
      "cell_type": "code",
      "source": [
        "torch.cuda.empty_cache()"
      ],
      "metadata": {
        "id": "HuwgYroQUaxL"
      },
      "execution_count": 153,
      "outputs": []
    },
    {
      "cell_type": "markdown",
      "source": [
        "Fast Gradient Method"
      ],
      "metadata": {
        "id": "PM5f8zAec1Fx"
      }
    },
    {
      "cell_type": "code",
      "source": [
        "from cleverhans.torch.attacks.fast_gradient_method import fast_gradient_method"
      ],
      "metadata": {
        "id": "ojT7UIBJANVZ"
      },
      "execution_count": 154,
      "outputs": []
    },
    {
      "cell_type": "code",
      "source": [
        "epsilon = 0.1\n",
        "clip_min = 0.0\n",
        "clip_max = 1.0\n",
        "norm = np.inf\n",
        "\n",
        "correct, total = 0, 0\n",
        "total_time = 0.0\n",
        "\n",
        "for i, data in enumerate(truncated_testloader):\n",
        "  start_time, end_time = 0.0, 0.0\n",
        "  inputs, labels = data\n",
        "  inputs, labels = inputs.to(device), labels.to(device)\n",
        "\n",
        "  start_time = time.time()\n",
        "\n",
        "  adversarial_inputs = fast_gradient_method(resnet,\n",
        "                                            inputs,\n",
        "                                            eps=epsilon,\n",
        "                                            norm=norm,\n",
        "                                            clip_min=clip_min,\n",
        "                                            clip_max=clip_max,\n",
        "                                            y=labels,\n",
        "                                            targeted=False)\n",
        "\n",
        "  end_time = time.time()\n",
        "  \n",
        "  outputs = resnet(adversarial_inputs)\n",
        "\n",
        "  _, predicted = torch.max(outputs.data, 1)\n",
        "\n",
        "  total += labels.size(0)\n",
        "  correct += (predicted==labels).sum().item()\n",
        "\n",
        "  total_time += (end_time - start_time)\n",
        "\n",
        "  if (i+1)%10==0:\n",
        "    print(f\"Completed: {i*BATCH_SIZE} with accuracy of {correct/total*100}\")\n",
        "\n",
        "print(f\"Accuracy on attacked 1000 adversarial examples using Fast Gradient Method: {correct/total*100} with time: {total_time} seconds\")"
      ],
      "metadata": {
        "colab": {
          "base_uri": "https://localhost:8080/"
        },
        "id": "yGAZk9vBO3PR",
        "outputId": "d6e266ae-ef89-4763-f39a-65f25b51d1dc"
      },
      "execution_count": 160,
      "outputs": [
        {
          "output_type": "stream",
          "name": "stdout",
          "text": [
            "Completed: 144 with accuracy of 6.25\n",
            "Completed: 304 with accuracy of 7.187499999999999\n",
            "Completed: 464 with accuracy of 7.291666666666667\n",
            "Completed: 624 with accuracy of 7.968749999999999\n",
            "Completed: 784 with accuracy of 8.125\n",
            "Completed: 944 with accuracy of 8.125\n",
            "Accuracy on attacked 1000 adversarial examples using Fast Gradient Method: 8.0 with time: 5.947423934936523 seconds\n"
          ]
        }
      ]
    },
    {
      "cell_type": "code",
      "source": [
        "torch.cuda.empty_cache()"
      ],
      "metadata": {
        "id": "rGFHGKbJnbxf"
      },
      "execution_count": 161,
      "outputs": []
    },
    {
      "cell_type": "code",
      "source": [
        "import time"
      ],
      "metadata": {
        "id": "4qi1rLu0sSkm"
      },
      "execution_count": 162,
      "outputs": []
    },
    {
      "cell_type": "markdown",
      "source": [
        "Projected Gradient Descent"
      ],
      "metadata": {
        "id": "NNnuq6Xsf6Ag"
      }
    },
    {
      "cell_type": "code",
      "source": [
        "from cleverhans.torch.attacks.projected_gradient_descent import projected_gradient_descent"
      ],
      "metadata": {
        "id": "fgQLNWqgVEdT"
      },
      "execution_count": 163,
      "outputs": []
    },
    {
      "cell_type": "code",
      "source": [
        "epsilon = 0.1\n",
        "clip_min = 0.0\n",
        "clip_max = 1.0\n",
        "norm = np.inf\n",
        "eps_iter = 0.05\n",
        "nb_iter = 20\n",
        "\n",
        "correct, total = 0, 0\n",
        "total_time = 0.0\n",
        "\n",
        "for i, data in enumerate(truncated_testloader):\n",
        "  start_time, end_time = 0.0, 0.0\n",
        "  inputs, labels = data\n",
        "  inputs, labels = inputs.to(device), labels.to(device)\n",
        "  start_time = time.time()\n",
        "  adversarial_inputs = projected_gradient_descent(resnet,\n",
        "                                                  inputs,\n",
        "                                                  eps=epsilon,\n",
        "                                                  eps_iter=eps_iter,\n",
        "                                                  nb_iter=nb_iter,\n",
        "                                                  norm=norm)\n",
        "\n",
        "  end_time = time.time()\n",
        "\n",
        "  outputs = resnet(adversarial_inputs)\n",
        "\n",
        "  _, predicted = torch.max(outputs.data, 1)\n",
        "\n",
        "  total += labels.size(0)\n",
        "  correct += (predicted==labels).sum().item()\n",
        "\n",
        "  total_time += (end_time - start_time)\n",
        "\n",
        "  if (i+1)%10==0:\n",
        "    print(f\"Completed: {i*BATCH_SIZE} with accuracy of {correct/total*100}\")\n",
        "\n",
        "print(f\"Accuracy on attacked 1000 adversarial examples using Projected Gradient Descent: {correct/total*100} with time: {total_time} seconds\")"
      ],
      "metadata": {
        "colab": {
          "base_uri": "https://localhost:8080/"
        },
        "id": "nE65JNCkgD0R",
        "outputId": "f7907d89-77f6-4336-ff6c-4fd657abf733"
      },
      "execution_count": 164,
      "outputs": [
        {
          "output_type": "stream",
          "name": "stdout",
          "text": [
            "Completed: 144 with accuracy of 2.5\n",
            "Completed: 304 with accuracy of 2.8125\n",
            "Completed: 464 with accuracy of 2.7083333333333335\n",
            "Completed: 624 with accuracy of 2.5\n",
            "Completed: 784 with accuracy of 2.625\n",
            "Completed: 944 with accuracy of 2.5\n",
            "Accuracy on attacked 1000 adversarial examples using Projected Gradient Descent: 2.4 with time: 125.15714573860168 seconds\n"
          ]
        }
      ]
    },
    {
      "cell_type": "code",
      "source": [
        "torch.cuda.empty_cache()"
      ],
      "metadata": {
        "id": "oaTKME4zndsN"
      },
      "execution_count": 175,
      "outputs": []
    },
    {
      "cell_type": "markdown",
      "source": [
        "Carlini and Wagner L2 Attack"
      ],
      "metadata": {
        "id": "Lgm4WZF6lpsZ"
      }
    },
    {
      "cell_type": "code",
      "source": [
        "from cleverhans.torch.attacks.carlini_wagner_l2 import carlini_wagner_l2"
      ],
      "metadata": {
        "id": "GAlJsdcHgg-S"
      },
      "execution_count": 177,
      "outputs": []
    },
    {
      "cell_type": "code",
      "source": [
        "n_classes = 10\n",
        "\n",
        "correct, total = 0, 0\n",
        "total_time = 0.0\n",
        "\n",
        "for i, data in enumerate(truncated_testloader):\n",
        "  start_time, end_time = 0.0, 0.0\n",
        "  inputs, labels = data\n",
        "  inputs, labels = inputs.to(device), labels.to(device)\n",
        "\n",
        "  start_time = time.time()\n",
        "\n",
        "  adversarial_inputs = carlini_wagner_l2(resnet,\n",
        "                                         inputs,\n",
        "                                         n_classes=n_classes,\n",
        "                                         targeted=False,\n",
        "                                         binary_search_steps=3,\n",
        "                                         max_iterations=100,\n",
        "                                         initial_const=0.01,\n",
        "                                         lr=0.01,\n",
        "                                         confidence=0.1)\n",
        "\n",
        "  end_time = time.time()\n",
        "\n",
        "  outputs = resnet(adversarial_inputs)\n",
        "\n",
        "  _, predicted = torch.max(outputs.data, 1)\n",
        "\n",
        "  total += labels.size(0)\n",
        "  correct += (predicted==labels).sum().item()\n",
        "\n",
        "  total_time += (end_time - start_time)\n",
        "\n",
        "  if (i+1)%10==0:\n",
        "    print(f\"Completed: {i*BATCH_SIZE} with accuracy of {correct/total*100} with time: {total_time} seconds\")\n",
        "\n",
        "print(f\"Accuracy on attacked 1000 adversarial examples using Carlini and Wagner L2 Attack: {correct/total*100} with time: {total_time} seconds\")"
      ],
      "metadata": {
        "colab": {
          "base_uri": "https://localhost:8080/"
        },
        "id": "DtSaXYTElxCX",
        "outputId": "88085840-cfb4-424c-fcd7-a896cf84c1c1"
      },
      "execution_count": 178,
      "outputs": [
        {
          "output_type": "stream",
          "name": "stdout",
          "text": [
            "Completed: 144 with accuracy of 2.5 with time: 295.87879252433777 seconds\n",
            "Completed: 304 with accuracy of 3.75 with time: 596.5709054470062 seconds\n",
            "Completed: 464 with accuracy of 5.208333333333334 with time: 897.1838102340698 seconds\n",
            "Completed: 624 with accuracy of 4.84375 with time: 1197.4947290420532 seconds\n",
            "Completed: 784 with accuracy of 4.5 with time: 1497.5962183475494 seconds\n",
            "Completed: 944 with accuracy of 4.270833333333333 with time: 1797.9963812828064 seconds\n",
            "Accuracy on attacked 1000 adversarial examples using Carlini and Wagner L2 Attack: 4.3 with time: 1874.8635625839233 seconds\n"
          ]
        }
      ]
    },
    {
      "cell_type": "code",
      "source": [
        "torch.cuda.empty_cache()"
      ],
      "metadata": {
        "id": "4_TLppHap1VF"
      },
      "execution_count": 113,
      "outputs": []
    },
    {
      "cell_type": "markdown",
      "source": [
        "Noise"
      ],
      "metadata": {
        "id": "K5vxT5TcnXI5"
      }
    },
    {
      "cell_type": "code",
      "source": [
        "from cleverhans.torch.attacks.noise import noise"
      ],
      "metadata": {
        "id": "u8p0Yuctm_Rx"
      },
      "execution_count": 166,
      "outputs": []
    },
    {
      "cell_type": "code",
      "source": [
        "epsilon = 0.1\n",
        "order = np.inf\n",
        "\n",
        "correct, total = 0, 0\n",
        "total_time = 0.0\n",
        "\n",
        "for i, data in enumerate(truncated_testloader):\n",
        "  start_time, end_time = 0.0, 0.0\n",
        "  inputs, labels = data\n",
        "  inputs, labels = inputs.to(device), labels.to(device)\n",
        "\n",
        "  start_time = time.time()\n",
        "\n",
        "  adversarial_inputs = noise(inputs,\n",
        "                             eps=epsilon,\n",
        "                             order=order)\n",
        "\n",
        "  end_time = time.time()\n",
        "\n",
        "  outputs = resnet(adversarial_inputs)\n",
        "\n",
        "  _, predicted = torch.max(outputs.data, 1)\n",
        "\n",
        "  total += labels.size(0)\n",
        "  correct += (predicted==labels).sum().item()\n",
        "\n",
        "  total_time += (end_time - start_time)\n",
        "\n",
        "  if (i+1)%10==0:\n",
        "    print(f\"Completed: {i*BATCH_SIZE} with accuracy of {correct/total*100}\")\n",
        "\n",
        "print(f\"Accuracy on attacked 1000 adversarial examples using Noise attack: {correct/total*100} with time: {total_time} seconds\")"
      ],
      "metadata": {
        "colab": {
          "base_uri": "https://localhost:8080/"
        },
        "id": "DjKc-3j9oWfn",
        "outputId": "9198762e-a18b-488b-f355-b7de43ee495e"
      },
      "execution_count": 167,
      "outputs": [
        {
          "output_type": "stream",
          "name": "stdout",
          "text": [
            "Completed: 144 with accuracy of 30.0\n",
            "Completed: 304 with accuracy of 34.375\n",
            "Completed: 464 with accuracy of 33.958333333333336\n",
            "Completed: 624 with accuracy of 35.3125\n",
            "Completed: 784 with accuracy of 34.625\n",
            "Completed: 944 with accuracy of 34.375\n",
            "Accuracy on attacked 1000 adversarial examples using Noise attack: 34.5 with time: 0.14503002166748047 seconds\n"
          ]
        }
      ]
    },
    {
      "cell_type": "code",
      "source": [
        "torch.cuda.empty_cache()"
      ],
      "metadata": {
        "id": "Jp_QABV_p8p3"
      },
      "execution_count": 170,
      "outputs": []
    },
    {
      "cell_type": "markdown",
      "source": [
        "Sparse L1 Descent"
      ],
      "metadata": {
        "id": "ND2CIInbp9ah"
      }
    },
    {
      "cell_type": "code",
      "source": [
        "from cleverhans.torch.attacks.sparse_l1_descent import sparse_l1_descent"
      ],
      "metadata": {
        "id": "hG7VvhaVp9Cq"
      },
      "execution_count": 171,
      "outputs": []
    },
    {
      "cell_type": "code",
      "source": [
        "epsilon=0.1\n",
        "eps_iter=0.05\n",
        "nb_iter=20,\n",
        "grad_sparsity=50\n",
        "\n",
        "correct, total = 0, 0\n",
        "total_time = 0.0\n",
        "\n",
        "for i, data in enumerate(truncated_testloader):\n",
        "  start_time, end_time = 0.0, 0.0\n",
        "\n",
        "  inputs, labels = data\n",
        "  inputs, labels = inputs.to(device), labels.to(device)\n",
        "\n",
        "  start_time = time.time()\n",
        "\n",
        "  adversarial_inputs = sparse_l1_descent(resnet,\n",
        "                                         inputs,\n",
        "                                         eps=epsilon,\n",
        "                                         eps_iter=0.05,\n",
        "                                         nb_iter=20,\n",
        "                                         targeted=False,\n",
        "                                         rand_init=False,\n",
        "                                         clip_grad=False,\n",
        "                                         grad_sparsity=grad_sparsity,\n",
        "                                         sanity_checks=True)\n",
        "  end_time = time.time()\n",
        "\n",
        "  outputs = resnet(adversarial_inputs)\n",
        "\n",
        "  _, predicted = torch.max(outputs.data, 1)\n",
        "\n",
        "  total += labels.size(0)\n",
        "  correct += (predicted==labels).sum().item()\n",
        "\n",
        "  total_time = (end_time - start_time)\n",
        "\n",
        "  if (i+1)%10==0:\n",
        "    print(f\"Completed: {i*BATCH_SIZE} with accuracy of {correct/total*100}\")\n",
        "\n",
        "print(f\"Accuracy on attacked 1000 adversarial examples using Sparse L1 Descent: {correct/total*100} with time: {total_time} min\")"
      ],
      "metadata": {
        "colab": {
          "base_uri": "https://localhost:8080/"
        },
        "id": "2T3UO72-rCLb",
        "outputId": "9938dbc3-90ab-46f6-f0fa-3ca70d597977"
      },
      "execution_count": 174,
      "outputs": [
        {
          "output_type": "stream",
          "name": "stdout",
          "text": [
            "Completed: 144 with accuracy of 85.625\n",
            "Completed: 304 with accuracy of 84.6875\n",
            "Completed: 464 with accuracy of 85.0\n",
            "Completed: 624 with accuracy of 84.84375\n",
            "Completed: 784 with accuracy of 84.625\n",
            "Completed: 944 with accuracy of 85.3125\n",
            "Accuracy on attacked 1000 adversarial examples using Sparse L1 Descent: 85.5 with time: 1.0810728073120117 min\n"
          ]
        }
      ]
    },
    {
      "cell_type": "code",
      "source": [
        "time_taken = {\"fast_gradient_method\": 5.95,\n",
        "              \"projected_gradient_descent\": 125.16,\n",
        "              \"carlini_wagner_l2\": 1847.86,\n",
        "              \"noise\":0.15,\n",
        "              \"sparse_l1_descent\": 64.87}"
      ],
      "metadata": {
        "id": "2ZX_c2z_rwLP"
      },
      "execution_count": 179,
      "outputs": []
    },
    {
      "cell_type": "markdown",
      "source": [
        "Plotting Respective Atack times"
      ],
      "metadata": {
        "id": "IRu3AWQMGeaS"
      }
    },
    {
      "cell_type": "code",
      "source": [
        "# Create a bar plot\n",
        "fig, ax = plt.subplots(figsize=(8,6))\n",
        "ax.bar(time_taken.keys(), time_taken.values())\n",
        "\n",
        "# Add labels and title\n",
        "ax.set_xlabel(\"Attack Methods\")\n",
        "ax.set_ylabel(\"Time Taken (seconds)\")\n",
        "ax.set_title(\"Time taken for different attack methods\")\n",
        "\n",
        "# Add text labels to the plot\n",
        "for i, v in enumerate(time_taken.values()):\n",
        "    ax.text(i, v + 10, str(v), color='black', fontweight='bold')\n",
        "\n",
        "# Rotate x-tick labels\n",
        "plt.xticks(rotation=45)\n",
        "\n",
        "# Show the plot\n",
        "plt.show()"
      ],
      "metadata": {
        "colab": {
          "base_uri": "https://localhost:8080/",
          "height": 697
        },
        "id": "2Rq-bWyeGIO5",
        "outputId": "95b89fe7-c980-47e1-b00f-a6ee4398abe1"
      },
      "execution_count": 182,
      "outputs": [
        {
          "output_type": "display_data",
          "data": {
            "text/plain": [
              "<Figure size 800x600 with 1 Axes>"
            ],
            "image/png": "[encoded data removed]"
          },
          "metadata": {}
        }
      ]
    },
    {
      "cell_type": "code",
      "source": [],
      "metadata": {
        "id": "NtJo0dzqGwT-"
      },
      "execution_count": null,
      "outputs": []
    }
  ]
}